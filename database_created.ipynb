{
 "cells": [
  {
   "cell_type": "code",
   "execution_count": 29,
   "id": "37ac9ef4-9e83-43a7-a9ea-21e78c5b7c3d",
   "metadata": {},
   "outputs": [],
   "source": [
    "from langchain_community.document_loaders import JSONLoader"
   ]
  },
  {
   "cell_type": "code",
   "execution_count": 33,
   "id": "60a37772-0458-49c9-9188-c8b0cff30f49",
   "metadata": {},
   "outputs": [],
   "source": [
    "import json\n",
    "from pathlib import Path\n",
    "from pprint import pprint\n",
    "\n",
    "\n",
    "file_path='pics/Andhra Pradesh_schemes.json'\n",
    "data = json.loads(Path(file_path).read_text())\n",
    "data= data[0:69]\n"
   ]
  },
  {
   "cell_type": "code",
   "execution_count": 34,
   "id": "2dfc777a-8335-4f8a-addf-9411c1737277",
   "metadata": {},
   "outputs": [],
   "source": [
    "from langchain.schema import Document\n",
    "\n",
    "# Prepare the data (using 'eligibility', 'benefits', and 'schemeName' as an example)\n",
    "chunked_data = []\n",
    "\n",
    "for item in data:\n",
    "    # Combine fields (eligibility, benefits, etc.) into one string, and include headings\n",
    "    combined_text = \"\"\n",
    "\n",
    "    # Add schemeName as a heading\n",
    "    if 'schemeName' in item:\n",
    "        combined_text += f\"Scheme Name: {item['schemeName']}\\n\\n\"\n",
    "\n",
    "    # Add schemeCategory as a heading\n",
    "    if 'schemeCategory' in item:\n",
    "        combined_text += f\"Scheme Category: {', '.join(item['schemeCategory'])}\\n\\n\"\n",
    "\n",
    "    if 'benefits' in item and item['benefits']:\n",
    "        combined_text += \"Benefits:\\n\" + \"\\n\".join(item['benefits']) + \"\\n\\n\"\n",
    "    # Add eligibility as a heading if it exists\n",
    "    if 'eligibility' in item and item['eligibility']:\n",
    "        combined_text += \"Eligibility:\\n\" + \"\\n\".join(item['eligibility']) + \"\\n\\n\"\n",
    "\n",
    "    if 'documentsRequired' in item and item['documentsRequired']:\n",
    "        combined_text += \"Documents Required:\\n\" + item['documentsRequired'] + \"\\n\\n\"\n",
    "    document = Document(page_content=combined_text)  # Only page_content, no metadata\n",
    "\n",
    "    # Now append this document to chunked_data list\n",
    "    chunked_data.append(document)\n",
    "\n",
    "# Now chunked_data contains the documents in the required format (without metadata)\n"
   ]
  },
  {
   "cell_type": "code",
   "execution_count": 35,
   "id": "1272ca8b-981c-410b-9ff4-30e7a34679dc",
   "metadata": {},
   "outputs": [
    {
     "data": {
      "text/plain": [
       "Document(metadata={}, page_content=\"Scheme Name: Dr. YSR Aarogyasri Health Insurance Scheme\\n\\nScheme Category: Health & Wellness\\n\\nBenefits:\\nHospital Care: When hospitalisation is needed, the system covers in-patient treatment for all of the aforementioned illnesses.\\nOut-Patient Care: These treatments are provided as part of the scheme's cashless services by health camps and network hospitals.\\nCashless Services: When registered family members and beneficiaries demand it, an annual coverage of ₹5,00,000 per family is provided.\\nPre-Existing Disease Coverage: This plan has an unusual characteristic in that it covers ailments that the recipient was already suffering from before enrolling in the scheme.\\nFollow-Up: The Dr. YSR Aarogyasri program also pays for post-hospitalization operations that can be rather expensive on their own.\\nAffordable Family Health Insurance: Family health insurance allows the complete family to use the covered amount without the requirement for separate policies for each family member.\\nFree Admission.\\nDoctor Consultation. (Every Day).\\nNursing Services. (Per Day).\\nNecessary Medical Tests.\\nNecessary Medicines.\\nSurgery (Operation) or Treament.\\nBreakfast, Lunch. (Two Meals).\\nMedicine for 10 Days after Discharge.\\nNecessary Charges for Going Home after Discharge.\\n\\nEligibility:\\nLess than 12.00 Acres of wet land\\nLess than 35.00 Acres of dry land\\nTotal less than 35.00 Acres (Wet & Dry)\\nAll households whose annual income is less than or upto Rs.5.00 Lakhs (Salary certificate evidence)\\nIncome Tax Payers: Families who are filing Income Tax Returns for annual income up to Rs.5.00 Lakhs are eligible (Income Tax Return evidence).\\n\\n\")"
      ]
     },
     "execution_count": 35,
     "metadata": {},
     "output_type": "execute_result"
    }
   ],
   "source": [
    "chunked_data[4]"
   ]
  },
  {
   "cell_type": "code",
   "execution_count": 36,
   "id": "46d732e8-1a05-45ff-94e6-2dd8a8b36aae",
   "metadata": {},
   "outputs": [
    {
     "data": {
      "text/plain": [
       "69"
      ]
     },
     "execution_count": 36,
     "metadata": {},
     "output_type": "execute_result"
    }
   ],
   "source": [
    "len(chunked_data)"
   ]
  },
  {
   "cell_type": "code",
   "execution_count": 37,
   "id": "21f43397-f8f6-48fa-b65f-a5773a048013",
   "metadata": {},
   "outputs": [],
   "source": [
    "from langchain_cohere import CohereEmbeddings\n",
    "cohere_api_key=\"p8eOQWcrY8direXVjNhSy7xLcrOe4mnJ4XbMm85X\"\n",
    "embeddings = CohereEmbeddings(\n",
    "    model=\"embed-english-v3.0\",\n",
    "    cohere_api_key=cohere_api_key\n",
    ")"
   ]
  },
  {
   "cell_type": "code",
   "execution_count": 38,
   "id": "c69b7d7f-9f9d-4c97-859b-3cfd359c2978",
   "metadata": {},
   "outputs": [],
   "source": [
    "from langchain_community.vectorstores import FAISS\n",
    "db = FAISS.from_documents(chunked_data, embeddings)"
   ]
  },
  {
   "cell_type": "code",
   "execution_count": 39,
   "id": "69818ee2-ded0-450c-8e96-b14e4604ce05",
   "metadata": {},
   "outputs": [
    {
     "data": {
      "text/plain": [
       "<langchain_community.vectorstores.faiss.FAISS at 0x26d3ea33c10>"
      ]
     },
     "execution_count": 39,
     "metadata": {},
     "output_type": "execute_result"
    }
   ],
   "source": [
    "db"
   ]
  },
  {
   "cell_type": "code",
   "execution_count": 40,
   "id": "57a89bd7-66fc-4303-ab88-edc9a95d2b60",
   "metadata": {},
   "outputs": [],
   "source": [
    "db.save_local(\"./vector_database\")\n"
   ]
  },
  {
   "cell_type": "code",
   "execution_count": null,
   "id": "661a9135-175e-471b-85c2-fc3f5650c1d9",
   "metadata": {},
   "outputs": [],
   "source": []
  }
 ],
 "metadata": {
  "kernelspec": {
   "display_name": "Python 3 (ipykernel)",
   "language": "python",
   "name": "python3"
  },
  "language_info": {
   "codemirror_mode": {
    "name": "ipython",
    "version": 3
   },
   "file_extension": ".py",
   "mimetype": "text/x-python",
   "name": "python",
   "nbconvert_exporter": "python",
   "pygments_lexer": "ipython3",
   "version": "3.11.5"
  }
 },
 "nbformat": 4,
 "nbformat_minor": 5
}
